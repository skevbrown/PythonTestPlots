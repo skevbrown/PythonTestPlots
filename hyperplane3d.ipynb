{
 "cells": [
  {
   "cell_type": "code",
   "execution_count": 1,
   "metadata": {
    "collapsed": true
   },
   "outputs": [],
   "source": [
    "import numpy as np\n",
    "import matplotlib.pyplot as plt\n",
    "from mpl_toolkits.mplot3d import Axes3D\n",
    "import PyQt5\n",
    "from matplotlib import interactive\n",
    "interactive(True)\n",
    "\n",
    "#import sys\n",
    "#print(sys.path)"
   ]
  },
  {
   "cell_type": "markdown",
   "metadata": {},
   "source": [
    "### Create linear equation plane (ax+by+cz=d) using normal vector \n",
    "### and 1 point in plane\n",
    "### Plot shows hyperplane and various inputs seperated by plane "
   ]
  },
  {
   "cell_type": "code",
   "execution_count": 2,
   "metadata": {
    "collapsed": true
   },
   "outputs": [],
   "source": [
    "point1  = np.array([0,0,3/4])\n",
    "normal1 = np.array([1/8,1/8,3/4])\n",
    "\n",
    "point2  = np.array([0,-4,0])\n",
    "normal2 = np.array([0,2,-8])\n",
    "\n",
    "d1 = -np.sum(point1*normal1)# dot product\n",
    "d2 = -np.sum(point2*normal2)# dot product\n",
    "#d3 = -np.sum(point3*normal3)# dot product\n",
    "\n",
    "# create x,y\n",
    "xx, yy = np.meshgrid(range(2), range(2))\n",
    "\n",
    "# calculate corresponding z\n",
    "z1 = (-normal1[0]*xx - normal1[1]*yy - d1)*1./normal1[2]\n",
    "z2 = (-normal2[0]*xx - normal2[1]*yy - d2)*1./normal2[2]\n",
    "\n",
    "# Some scatter points\n",
    "#scatMat = np.zeros([4,3])\n",
    "scatMat = np.array([[0,0,0],[1,1,0],[1,0,1],[0,1,1]])\n",
    "#print(scatMat)\n",
    "xscat = scatMat[:,0]; \n",
    "yscat = scatMat[:,1]; zscat = scatMat[:,2]\n",
    "#print(xscat)"
   ]
  },
  {
   "cell_type": "code",
   "execution_count": 3,
   "metadata": {
    "collapsed": true
   },
   "outputs": [],
   "source": [
    "%matplotlib qt\n",
    "#%matplotlib inline\n",
    "\n",
    "# plot the surface\n",
    "plt3d = plt.figure().gca(projection='3d')\n",
    "plt3d.plot_surface(xx,yy,z1, color=(0.5,0.1,0.9,0.5))\n",
    "plt3d.set_xlim(0,1.2); plt3d.set_ylim(0,1.2)\n",
    "#plt3d.plot_surface(xx,yy,z2, color='yellow')\n",
    "\n",
    "plt3d.scatter(xscat,yscat,zscat,color='red')\n",
    "\n",
    "plt.show()"
   ]
  },
  {
   "cell_type": "code",
   "execution_count": null,
   "metadata": {
    "collapsed": true
   },
   "outputs": [],
   "source": []
  },
  {
   "cell_type": "code",
   "execution_count": null,
   "metadata": {
    "collapsed": true
   },
   "outputs": [],
   "source": []
  }
 ],
 "metadata": {
  "kernelspec": {
   "display_name": "Python 3",
   "language": "python",
   "name": "python3"
  },
  "language_info": {
   "codemirror_mode": {
    "name": "ipython",
    "version": 3
   },
   "file_extension": ".py",
   "mimetype": "text/x-python",
   "name": "python",
   "nbconvert_exporter": "python",
   "pygments_lexer": "ipython3",
   "version": "3.6.3"
  }
 },
 "nbformat": 4,
 "nbformat_minor": 2
}
