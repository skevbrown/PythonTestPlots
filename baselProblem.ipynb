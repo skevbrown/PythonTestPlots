{
 "cells": [
  {
   "cell_type": "markdown",
   "metadata": {},
   "source": [
    "# Sums Involvling the Basel Problem"
   ]
  },
  {
   "cell_type": "markdown",
   "metadata": {},
   "source": [
    "We'll cheat by using sklearn.naive_bayes to train a spam classifier! Most of the code is just loading our training data into a pandas DataFrame that we can play with:"
   ]
  },
  {
   "cell_type": "code",
   "execution_count": 1,
   "metadata": {
    "collapsed": true
   },
   "outputs": [],
   "source": [
    "import numpy as np\n",
    "import matplotlib.pyplot as plt\n",
    "import cmath as cm\n",
    "import math\n",
    "from scipy import ndimage as ndi\n",
    "from pandas import DataFrame\n",
    "#from sklearn.feature_extraction.text import CountVectorizer\n",
    "#from sklearn.naive_bayes import MultinomialNB\n",
    "\n",
    "\n",
    "\n"
   ]
  },
  {
   "cell_type": "markdown",
   "metadata": {},
   "source": [
    "Define a Generator for sum"
   ]
  },
  {
   "cell_type": "code",
   "execution_count": 23,
   "metadata": {},
   "outputs": [],
   "source": [
    "# a generator that yields items instead of returning a list\n",
    "def posOdd(n):\n",
    "     num = 1\n",
    "     while num < n:\n",
    "         podd = 1/num**2\n",
    "         yield podd\n",
    "         num += 2 \n",
    "            \n",
    "def allInt(n):\n",
    "    num = 1\n",
    "    while num < n:\n",
    "        aint = 1/num**2\n",
    "        yield aint\n",
    "        num += 1\n",
    "        \n",
    "def posEven(n):\n",
    "    num = 2\n",
    "    while num < n:\n",
    "        peven = 1/num**2\n",
    "        yield peven\n",
    "        num += 2\n"
   ]
  },
  {
   "cell_type": "markdown",
   "metadata": {},
   "source": [
    "### Sum of the Positive Odds Compared to pi^2 /8"
   ]
  },
  {
   "cell_type": "code",
   "execution_count": 28,
   "metadata": {},
   "outputs": [
    {
     "name": "stdout",
     "output_type": "stream",
     "text": [
      "Sum of Pos odd:   1.233645006923784\n",
      "pi^2 Over 8:    1.2337005501361697\n",
      "    \n",
      "Adding Pos odds to Neg odds yields pi^2 Over 4\n",
      "(Sum of two Halves of Circle ?):   2.467290013847568\n",
      "    \n",
      "pi^2 Over 4:    2.4674011002723395\n"
     ]
    }
   ],
   "source": [
    "posOddsum = sum(posOdd(9003))\n",
    "\n",
    "print(\"Sum of Pos odd:   {}\".format(posOddsum))\n",
    "print(\"pi^2 Over 8:    {}\".format(np.pi**2/8))\n",
    "print(\"    \")\n",
    "print(\"Adding Pos odds to Neg odds yields pi^2 Over 4\")\n",
    "print(\"(Sum of two Halves of Circle ?):   {}\".format(posOddsum+posOddsum))\n",
    "print(\"    \")\n",
    "print(\"pi^2 Over 4:    {}\".format(np.pi**2/4))"
   ]
  },
  {
   "cell_type": "markdown",
   "metadata": {},
   "source": [
    "### Sum of All Integers"
   ]
  },
  {
   "cell_type": "code",
   "execution_count": 25,
   "metadata": {},
   "outputs": [
    {
     "name": "stdout",
     "output_type": "stream",
     "text": [
      "Sum of all Integers is pi^2 Over 6\n",
      "1.6449240670982364\n",
      "pi^2 Over 6:   1.6449340668482264\n",
      "    \n",
      "1/4 of pi^2 Over 6:   0.4112335167120566\n",
      "    \n",
      "3/4 of pi^2 Over 6:   1.2337005501361697\n",
      "    \n",
      "Sum of Pos Even Integers:   0.4112285166620604\n"
     ]
    }
   ],
   "source": [
    "allIntsum = sum(allInt(100003))\n",
    "posEvensum = sum(posEven(100000))\n",
    "posOddsum = sum(posOdd(1000001))\n",
    "print(\"Sum of all Integers approaches pi^2 Over 6\")\n",
    "print(allIntsum)\n",
    "print(\"pi^2 Over 6:   {}\".format(np.pi**2/6))\n",
    "print(\"    \")\n",
    "print(\"1/4 of pi^2 Over 6:   {}\".format((1/4)*np.pi**2/6))\n",
    "print(\"    \")\n",
    "print(\"3/4 of pi^2 Over 6:   {}\".format((3/4)*np.pi**2/6))\n",
    "print(\"    \")\n",
    "print(\"Sum of Pos Even Integers:   {}\".format(posEvensum))\n",
    "#print(\"Sum of 1/4 Pos Even + 3/4 Pos Odd:   {}\".format((1/4)*np.))\n",
    "\n",
    "\n",
    "\n"
   ]
  },
  {
   "cell_type": "markdown",
   "metadata": {},
   "source": [
    "## Activity"
   ]
  },
  {
   "cell_type": "markdown",
   "metadata": {},
   "source": [
    "Our data set is small, so our spam classifier isn't actually very good. Try running some different test emails through it and see if you get the results you expect.\n",
    "\n",
    "If you really want to challenge yourself, try applying train/test to this spam classifier - see how well it can predict some subset of the ham and spam emails."
   ]
  },
  {
   "cell_type": "code",
   "execution_count": 160,
   "metadata": {},
   "outputs": [
    {
     "name": "stdout",
     "output_type": "stream",
     "text": [
      "Centroid: 0.16648123436478865 -1.5447630028900325e-17\n"
     ]
    },
    {
     "data": {
      "image/png": "[encoded data removed]",
      "text/plain": [
       "<matplotlib.figure.Figure at 0x1701ea44198>"
      ]
     },
     "metadata": {},
     "output_type": "display_data"
    }
   ],
   "source": [
    "#plt.figure()\n",
    "ceFreq = 2\n",
    "compExp.real = np.cos(ceFreq*vecFreq*tiVec)\n",
    "compExp.imag = np.sin(ceFreq*vecFreq*tiVec)\n",
    "\n",
    "[compMag, compAng] = polarvec(compExp.real,compExp.imag); compMag = compMag * ampVec1;\n",
    "[compExp.real, compExp.imag ] = rectvec(compMag,compAng )\n",
    "\n",
    "from shapely.geometry import Polygon\n",
    "compEmatr = np.zeros([len(compExp),2])\n",
    "compEmatr[:,0] = compExp.real; compEmatr[:,1] = compExp.imag\n",
    "#print(compEmatr)\n",
    "polygon = Polygon(compEmatr)\n",
    "cent = polygon.centroid.xy\n",
    "centx = cent[0][0]; centy = cent[1][0]\n",
    "\n",
    "print(\"Centroid: {} {}\".format(centx,centy))\n",
    "#print(\"Polygon area: {}\".format(polygon.area) )\n",
    "#print(\"Polygon length: {}\".format(polygon.length) )\n",
    "\n",
    "\n",
    "plt.plot(centx,centy,'ro');\n",
    "plt.plot(compExp.real,compExp.imag,'b',linewidth=0.2)\n",
    "plt.gca().set_xlim(-1.5,1.5); plt.gca().set_ylim(-1.5,1.5); \n",
    "plt.gca().set_aspect('equal', adjustable='box'); plt.grid(); plt.draw();\n",
    "#print( dir(compExp) )\n",
    "plt.show();"
   ]
  },
  {
   "cell_type": "code",
   "execution_count": null,
   "metadata": {
    "collapsed": true
   },
   "outputs": [],
   "source": []
  }
 ],
 "metadata": {
  "kernelspec": {
   "display_name": "Python 3",
   "language": "python",
   "name": "python3"
  },
  "language_info": {
   "codemirror_mode": {
    "name": "ipython",
    "version": 3
   },
   "file_extension": ".py",
   "mimetype": "text/x-python",
   "name": "python",
   "nbconvert_exporter": "python",
   "pygments_lexer": "ipython3",
   "version": "3.6.3"
  }
 },
 "nbformat": 4,
 "nbformat_minor": 1
}
