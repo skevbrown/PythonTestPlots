{
 "cells": [
  {
   "cell_type": "markdown",
   "metadata": {},
   "source": [
    "# Sums Involvling the Basel Problem"
   ]
  },
  {
   "cell_type": "markdown",
   "metadata": {},
   "source": [
    "We'll cheat by using sklearn.naive_bayes to train a spam classifier! Most of the code is just loading our training data into a pandas DataFrame that we can play with:"
   ]
  },
  {
   "cell_type": "code",
   "execution_count": 3,
   "metadata": {
    "collapsed": true
   },
   "outputs": [],
   "source": [
    "import numpy as np\n",
    "import matplotlib.pyplot as plt\n",
    "import cmath as cm\n",
    "import math\n",
    "from scipy import ndimage as ndi\n",
    "from pandas import DataFrame\n",
    "#from sklearn.feature_extraction.text import CountVectorizer\n",
    "#from sklearn.naive_bayes import MultinomialNB\n",
    "\n",
    "\n",
    "\n"
   ]
  },
  {
   "cell_type": "markdown",
   "metadata": {},
   "source": [
    "Define various Generator(s) for sum"
   ]
  },
  {
   "cell_type": "code",
   "execution_count": 14,
   "metadata": {
    "collapsed": true
   },
   "outputs": [],
   "source": [
    "# a generator that yields items instead of returning a list\n",
    "def posOdd(n):\n",
    "     num = 1\n",
    "     while num < n:\n",
    "         podd = 1/num**2\n",
    "         yield podd\n",
    "         num += 2 \n",
    "\n",
    "def allOdd(n):\n",
    "     num = -n\n",
    "     while num < n:\n",
    "        if num != 0:\n",
    "           podd = 1/num**2\n",
    "           yield podd\n",
    "        num += 2             \n",
    "            \n",
    "def allInt(n):\n",
    "    num = 1\n",
    "    while num < n:\n",
    "        aint = 1/num**2\n",
    "        yield aint\n",
    "        num += 1\n",
    "        \n",
    "def posEven(n):\n",
    "    num = 2\n",
    "    while num < n:\n",
    "        peven = 1/num**2\n",
    "        yield peven\n",
    "        num += 2\n",
    "\n",
    "def allEven(n):\n",
    "    num = -n\n",
    "    while num < n:\n",
    "        if num != 0:\n",
    "           peven = 1/num**2\n",
    "           yield peven\n",
    "        num += 2\n",
    "        \n",
    "def allSquare(n):\n",
    "    num = 1\n",
    "    while num < n:\n",
    "        pall = (1/np.sqrt(2))*(1/num)\n",
    "        yield pall\n",
    "        num += 1\n",
    "        \n",
    "def allSqodd(n):\n",
    "    num = 1\n",
    "    while num < n:\n",
    "        sqodd = np.sqrt(2)/num\n",
    "        yield sqodd\n",
    "        num +=2"
   ]
  },
  {
   "cell_type": "markdown",
   "metadata": {},
   "source": [
    "### Sum of the Positive Odds Compared to pi^2 /8"
   ]
  },
  {
   "cell_type": "code",
   "execution_count": 3,
   "metadata": {},
   "outputs": [
    {
     "name": "stdout",
     "output_type": "stream",
     "text": [
      "Sum of Pos odd:   1.233645006923784\n",
      "pi^2 Over 8:    1.2337005501361697\n",
      "    \n",
      "Adding Pos odds to Neg odds yields pi^2 Over 4\n",
      "(Sum of two Halves of Circle ?):   2.467290013847568\n",
      "    \n",
      "pi^2 Over 4:    2.4674011002723395\n"
     ]
    }
   ],
   "source": [
    "posOddsum = sum(posOdd(9003))\n",
    "\n",
    "print(\"Sum of Pos odd:   {}\".format(posOddsum))\n",
    "print(\"pi^2 Over 8:    {}\".format(np.pi**2/8))\n",
    "print(\"    \")\n",
    "print(\"Adding Pos odds to Neg odds yields pi^2 Over 4\")\n",
    "print(\"(Sum of two Halves of Circle ?):   {}\".format(posOddsum+posOddsum))\n",
    "print(\"    \")\n",
    "print(\"pi^2 Over 4:    {}\".format(np.pi**2/4))"
   ]
  },
  {
   "cell_type": "markdown",
   "metadata": {},
   "source": [
    "### Sum of All Integers"
   ]
  },
  {
   "cell_type": "code",
   "execution_count": 9,
   "metadata": {},
   "outputs": [
    {
     "name": "stdout",
     "output_type": "stream",
     "text": [
      "Sum of all Integers approaches pi^2 Over 6\n",
      "1.6449240670982364\n",
      "pi^2 Over 6:   1.6449340668482264\n",
      "    \n",
      "1/4 of pi^2 Over 6:   0.4112335167120566\n",
      "    \n",
      "3/4 of pi^2 Over 6:   1.2337005501361697\n",
      "    \n",
      "Sum of Pos Even Integers:   0.4112285166620604\n"
     ]
    }
   ],
   "source": [
    "allIntsum = sum(allInt(100003))\n",
    "posEvensum = sum(posEven(100000))\n",
    "posOddsum = sum(posOdd(1000001))\n",
    "print(\"Sum of all Integers approaches pi^2 Over 6\")\n",
    "print(allIntsum)\n",
    "print(\"pi^2 Over 6:   {}\".format(np.pi**2/6))\n",
    "print(\"    \")\n",
    "print(\"1/4 of pi^2 Over 6:   {}\".format((1/4)*np.pi**2/6))\n",
    "print(\"    \")\n",
    "print(\"3/4 of pi^2 Over 6:   {}\".format((3/4)*np.pi**2/6))\n",
    "print(\"    \")\n",
    "print(\"Sum of Pos Even Integers:   {}\".format(posEvensum))\n",
    "#print(\"Sum of 1/4 Pos Even + 3/4 Pos Odd:   {}\".format((1/4)*np.))\n",
    "\n",
    "\n",
    "\n"
   ]
  },
  {
   "cell_type": "markdown",
   "metadata": {},
   "source": [
    "### All Odd and All Evens"
   ]
  },
  {
   "cell_type": "markdown",
   "metadata": {},
   "source": [
    "#### NOTE, IF YOU SUM ALL ODDS WITH ALL EVENS, YOU DROP 1/4, 3/4 AND SIMPLY DIVIDE SUM BY TWO "
   ]
  },
  {
   "cell_type": "code",
   "execution_count": 16,
   "metadata": {
    "collapsed": true
   },
   "outputs": [
    {
     "name": "stdout",
     "output_type": "stream",
     "text": [
      "All Odds:   2.467391100372359\n",
      "   \n",
      "All Evens:   0.8224570334241216\n",
      "   \n",
      "All evens + All odds (same as pi^2/3):   3.2898481337964807\n",
      "   \n",
      "All evens + All odds, divided by two:   1.6449240668982403\n"
     ]
    }
   ],
   "source": [
    "allOddsum = sum(allOdd(100001))\n",
    "print(\"All Odds:   {}\".format(allOddsum))\n",
    "allEvensum = sum(allEven(100000))\n",
    "print(\"   \")\n",
    "print(\"All Evens:   {}\".format(allEvensum))\n",
    "print(\"   \")\n",
    "print(\"All evens + All odds (same as pi^2/3):   {}\".format(allEvensum+allOddsum))\n",
    "print(\"   \")\n",
    "print(\"All evens + All odds, divided by two:   {}\".format((allEvensum+allOddsum)/2))\n"
   ]
  },
  {
   "cell_type": "code",
   "execution_count": 25,
   "metadata": {},
   "outputs": [
    {
     "data": {
      "text/plain": [
       "3.289868133696453"
      ]
     },
     "execution_count": 25,
     "metadata": {},
     "output_type": "execute_result"
    }
   ],
   "source": [
    "np.pi**2/3"
   ]
  },
  {
   "cell_type": "code",
   "execution_count": 15,
   "metadata": {},
   "outputs": [
    {
     "name": "stdout",
     "output_type": "stream",
     "text": [
      "0.707099710188\n",
      "0.70709971019\n",
      "   \n",
      "All Square Two + All Square Two Odd (times 1/2):   8.794087082071687\n",
      "   \n"
     ]
    }
   ],
   "source": [
    "print(allSqsum)\n",
    "print(allSqoddsum)\n",
    "print(\"   \")\n",
    "allSqsum = sum(allSquare(100001))\n",
    "allSqoddsum = sum(allSqodd(100001))\n",
    "print(\"All Square Two + All Square Two Odd (times 1/2):   {}\".format((1/2)*(allSqsum+allSqoddsum)))\n",
    "print(\"   \")"
   ]
  },
  {
   "cell_type": "code",
   "execution_count": 15,
   "metadata": {},
   "outputs": [
    {
     "name": "stdout",
     "output_type": "stream",
     "text": [
      "0.707099710188\n",
      "0.70709971019\n",
      "   \n",
      "All Square Two + All Square Two Odd (times 1/2):   8.794087082071687\n",
      "   \n"
     ]
    }
   ],
   "source": [
    "print(allSqsum)\n",
    "print(allSqoddsum)\n",
    "print(\"   \")\n",
    "allSqsum = sum(allSquare(100001))\n",
    "allSqoddsum = sum(allSqodd(100001))\n",
    "print(\"All Square Two + All Square Two Odd (times 1/2):   {}\".format((1/2)*(allSqsum+allSqoddsum)))\n",
    "print(\"   \")"
   ]
  },
  {
   "cell_type": "markdown",
   "metadata": {
    "collapsed": true
   },
   "source": [
    "### Square 2 Odds\n",
    "\n"
   ]
  },
  {
   "cell_type": "code",
   "execution_count": 15,
   "metadata": {},
   "outputs": [
    {
     "name": "stdout",
     "output_type": "stream",
     "text": [
      "0.707099710188\n",
      "0.70709971019\n",
      "   \n",
      "All Square Two + All Square Two Odd (times 1/2):   8.794087082071687\n",
      "   \n"
     ]
    }
   ],
   "source": [
    "print(allSqsum)\n",
    "print(allSqoddsum)\n",
    "print(\"   \")\n",
    "allSqsum = sum(allSquare(100001))\n",
    "allSqoddsum = sum(allSqodd(100001))\n",
    "print(\"All Square Two + All Square Two Odd (times 1/2):   {}\".format((1/2)*(allSqsum+allSqoddsum)))\n",
    "print(\"   \")"
   ]
  },
  {
   "cell_type": "code",
   "execution_count": 12,
   "metadata": {},
   "outputs": [
    {
     "name": "stdout",
     "output_type": "stream",
     "text": [
      "0.707099710188\n",
      "0.70709971019\n"
     ]
    }
   ],
   "source": [
    "print(allSqsum)\n",
    "print(allSqoddsum)"
   ]
  },
  {
   "cell_type": "code",
   "execution_count": 4,
   "metadata": {},
   "outputs": [
    {
     "data": {
      "text/plain": [
       "0"
      ]
     },
     "execution_count": 4,
     "metadata": {},
     "output_type": "execute_result"
    }
   ],
   "source": [
    "sum(allSquare(100))"
   ]
  },
  {
   "cell_type": "code",
   "execution_count": null,
   "metadata": {
    "collapsed": true
   },
   "outputs": [],
   "source": []
  },
  {
   "cell_type": "code",
   "execution_count": 25,
   "metadata": {},
   "outputs": [
    {
     "data": {
      "text/plain": [
       "3.289868133696453"
      ]
     },
     "execution_count": 25,
     "metadata": {},
     "output_type": "execute_result"
    }
   ],
   "source": [
    "np.pi**2/3"
   ]
  }
 ],
 "metadata": {
  "kernelspec": {
   "display_name": "Python 3",
   "language": "python",
   "name": "python3"
  },
  "language_info": {
   "codemirror_mode": {
    "name": "ipython",
    "version": 3
   },
   "file_extension": ".py",
   "mimetype": "text/x-python",
   "name": "python",
   "nbconvert_exporter": "python",
   "pygments_lexer": "ipython3",
   "version": "3.6.3"
  }
 },
 "nbformat": 4,
 "nbformat_minor": 1
}
