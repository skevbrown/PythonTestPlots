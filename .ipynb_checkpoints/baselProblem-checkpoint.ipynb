{
 "cells": [
  {
   "cell_type": "markdown",
   "metadata": {},
   "source": [
    "# Winding the Fourier with Amp Modulation"
   ]
  },
  {
   "cell_type": "markdown",
   "metadata": {},
   "source": [
    "We'll cheat by using sklearn.naive_bayes to train a spam classifier! Most of the code is just loading our training data into a pandas DataFrame that we can play with:"
   ]
  },
  {
   "cell_type": "code",
   "execution_count": 1,
   "metadata": {
    "collapsed": true
   },
   "outputs": [],
   "source": [
    "import numpy as np\n",
    "import matplotlib.pyplot as plt\n",
    "import cmath as cm\n",
    "import math\n",
    "from scipy import ndimage as ndi\n",
    "from pandas import DataFrame\n",
    "#from sklearn.feature_extraction.text import CountVectorizer\n",
    "#from sklearn.naive_bayes import MultinomialNB\n",
    "\n",
    "\n",
    "\n"
   ]
  },
  {
   "cell_type": "markdown",
   "metadata": {},
   "source": [
    "Ok imports are done."
   ]
  },
  {
   "cell_type": "code",
   "execution_count": 116,
   "metadata": {
    "collapsed": true
   },
   "outputs": [],
   "source": [
    "\n",
    "def rect(r, theta):\n",
    "    \"\"\"theta in radians\n",
    "\n",
    "    returns tuple; (float, float); (x,y)\n",
    "    \"\"\"\n",
    "    x = r * math.cos(theta)\n",
    "    y = r * math.sin(theta)\n",
    "    return x,y\n",
    "\n",
    "def polar(x, y):\n",
    "    \"\"\"returns r, theta(radians)\n",
    "    \"\"\"\n",
    "    r, theta = cm.polar( complex(x,y) );\n",
    "\n",
    "    return r, theta\n",
    "\n",
    "\n",
    "\n",
    "polarvec = np.vectorize(polar); # Vectorize these func's to operate on vectors\n",
    "rectvec  = np.vectorize(rect)\n",
    "\n",
    "\n"
   ]
  },
  {
   "cell_type": "markdown",
   "metadata": {},
   "source": [
    "Functions for complex vectors"
   ]
  },
  {
   "cell_type": "code",
   "execution_count": 117,
   "metadata": {},
   "outputs": [
    {
     "data": {
      "image/png": "[encoded data removed]",
      "text/plain": [
       "<matplotlib.figure.Figure at 0x1701e7f5128>"
      ]
     },
     "metadata": {},
     "output_type": "display_data"
    }
   ],
   "source": [
    "\n",
    "vecFreq = 2\n",
    "tiVec = np.arange(0,13*np.pi,13*np.pi/1000)\n",
    "lenTi = len(tiVec)\n",
    "ampVec1 = (1/2)* (np.cos(vecFreq*tiVec)+1)\n",
    "compExp = np.array( [ complex(0,0)] * lenTi )\n",
    "\n",
    "plt.plot(tiVec,ampVec1,'r',linewidth=0.3)\n",
    "plt.grid()\n",
    "#plt.gca().set_aspect('equal', adjustable='box'); plt.draw();\n",
    "plt.show()\n",
    "#print(dir(plt.gca()))"
   ]
  },
  {
   "cell_type": "markdown",
   "metadata": {},
   "source": [
    "Setup the vectors, multiply mag, etc"
   ]
  },
  {
   "cell_type": "code",
   "execution_count": 152,
   "metadata": {},
   "outputs": [
    {
     "name": "stdout",
     "output_type": "stream",
     "text": [
      "Polygon area: 30.460578223221802\n",
      "Polygon length: 88.73760680037614\n",
      "-1.5447630028900325e-17\n"
     ]
    }
   ],
   "source": [
    "\n",
    "\n",
    "\n"
   ]
  },
  {
   "cell_type": "markdown",
   "metadata": {},
   "source": [
    "## Activity"
   ]
  },
  {
   "cell_type": "markdown",
   "metadata": {},
   "source": [
    "Our data set is small, so our spam classifier isn't actually very good. Try running some different test emails through it and see if you get the results you expect.\n",
    "\n",
    "If you really want to challenge yourself, try applying train/test to this spam classifier - see how well it can predict some subset of the ham and spam emails."
   ]
  },
  {
   "cell_type": "code",
   "execution_count": 160,
   "metadata": {},
   "outputs": [
    {
     "name": "stdout",
     "output_type": "stream",
     "text": [
      "Centroid: 0.16648123436478865 -1.5447630028900325e-17\n"
     ]
    },
    {
     "data": {
      "image/png": "[encoded data removed]",
      "text/plain": [
       "<matplotlib.figure.Figure at 0x1701ea44198>"
      ]
     },
     "metadata": {},
     "output_type": "display_data"
    }
   ],
   "source": [
    "#plt.figure()\n",
    "ceFreq = 2\n",
    "compExp.real = np.cos(ceFreq*vecFreq*tiVec)\n",
    "compExp.imag = np.sin(ceFreq*vecFreq*tiVec)\n",
    "\n",
    "[compMag, compAng] = polarvec(compExp.real,compExp.imag); compMag = compMag * ampVec1;\n",
    "[compExp.real, compExp.imag ] = rectvec(compMag,compAng )\n",
    "\n",
    "from shapely.geometry import Polygon\n",
    "compEmatr = np.zeros([len(compExp),2])\n",
    "compEmatr[:,0] = compExp.real; compEmatr[:,1] = compExp.imag\n",
    "#print(compEmatr)\n",
    "polygon = Polygon(compEmatr)\n",
    "cent = polygon.centroid.xy\n",
    "centx = cent[0][0]; centy = cent[1][0]\n",
    "\n",
    "print(\"Centroid: {} {}\".format(centx,centy))\n",
    "#print(\"Polygon area: {}\".format(polygon.area) )\n",
    "#print(\"Polygon length: {}\".format(polygon.length) )\n",
    "\n",
    "\n",
    "plt.plot(centx,centy,'ro');\n",
    "plt.plot(compExp.real,compExp.imag,'b',linewidth=0.2)\n",
    "plt.gca().set_xlim(-1.5,1.5); plt.gca().set_ylim(-1.5,1.5); \n",
    "plt.gca().set_aspect('equal', adjustable='box'); plt.grid(); plt.draw();\n",
    "#print( dir(compExp) )\n",
    "plt.show();"
   ]
  },
  {
   "cell_type": "code",
   "execution_count": null,
   "metadata": {
    "collapsed": true
   },
   "outputs": [],
   "source": []
  }
 ],
 "metadata": {
  "kernelspec": {
   "display_name": "Python 3",
   "language": "python",
   "name": "python3"
  },
  "language_info": {
   "codemirror_mode": {
    "name": "ipython",
    "version": 3
   },
   "file_extension": ".py",
   "mimetype": "text/x-python",
   "name": "python",
   "nbconvert_exporter": "python",
   "pygments_lexer": "ipython3",
   "version": "3.6.3"
  }
 },
 "nbformat": 4,
 "nbformat_minor": 1
}
